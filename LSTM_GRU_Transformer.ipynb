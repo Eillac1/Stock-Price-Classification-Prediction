{
 "cells": [
  {
   "cell_type": "code",
   "execution_count": 35,
   "id": "initial_id",
   "metadata": {
    "ExecuteTime": {
     "end_time": "2024-05-13T08:34:18.471539Z",
     "start_time": "2024-05-13T08:34:18.469802Z"
    },
    "collapsed": true
   },
   "outputs": [],
   "source": [
    "import csv\n",
    "from keras.layers import Input, LSTM, Dense, Activation, Permute, Lambda, Multiply, Dot, Reshape\n",
    "from keras.models import Model\n",
    "import keras.backend as K\n",
    "\n",
    "import pandas as pd\n",
    "from keras.layers import Dense\n",
    "from matplotlib import pyplot as plt\n",
    "from sklearn.metrics import accuracy_score, roc_curve, auc, confusion_matrix, ConfusionMatrixDisplay\n",
    "from sklearn.preprocessing import MinMaxScaler\n",
    "from keras.src.layers import GRU, Activation, LSTM\n",
    "from keras import Sequential\n",
    "from keras.models import Model\n",
    "from keras.layers import Input, LSTM, Dense, dot, concatenate\n",
    "import numpy as np"
   ]
  },
  {
   "cell_type": "code",
   "execution_count": 36,
   "id": "97bf50e724499e83",
   "metadata": {
    "ExecuteTime": {
     "end_time": "2024-05-13T08:34:18.482596Z",
     "start_time": "2024-05-13T08:34:18.472646Z"
    },
    "collapsed": false
   },
   "outputs": [],
   "source": [
    "# 读取数据\n",
    "df = pd.read_csv('vmd_sh_data.csv')\n",
    "\n",
    "# 将日期列转换为日期类型\n",
    "df[\"date\"] = pd.to_datetime(df[\"date\"])"
   ]
  },
  {
   "cell_type": "code",
   "execution_count": 37,
   "id": "fd0b2af77f692beb",
   "metadata": {
    "ExecuteTime": {
     "end_time": "2024-05-13T08:34:18.486426Z",
     "start_time": "2024-05-13T08:34:18.483542Z"
    },
    "collapsed": false
   },
   "outputs": [],
   "source": [
    "# 定义分类函数\n",
    "def classify_change_percent(value):\n",
    "    if value < -0.29:\n",
    "        return -1\n",
    "    elif value >= 0.39:\n",
    "        return 1\n",
    "    else:\n",
    "        return 0"
   ]
  },
  {
   "cell_type": "code",
   "execution_count": 38,
   "id": "afb01d36e0d90d2a",
   "metadata": {
    "ExecuteTime": {
     "end_time": "2024-05-13T08:34:18.489659Z",
     "start_time": "2024-05-13T08:34:18.487691Z"
    },
    "collapsed": false
   },
   "outputs": [],
   "source": [
    "# 应用分类函数到 change_percent 列\n",
    "df['change_percent_class'] = df['change_percent'].apply(classify_change_percent)\n",
    "# 应用独热编码\n",
    "df_encoded = pd.get_dummies(df, columns=['change_percent_class'])"
   ]
  },
  {
   "cell_type": "code",
   "execution_count": 39,
   "id": "565581b0b4b790cb",
   "metadata": {
    "ExecuteTime": {
     "end_time": "2024-05-13T08:34:18.499158Z",
     "start_time": "2024-05-13T08:34:18.491349Z"
    },
    "collapsed": false
   },
   "outputs": [],
   "source": [
    "# 将 object 类型的列转换为 float64\n",
    "object_cols = df_encoded.select_dtypes(include=['object']).columns\n",
    "df_encoded[object_cols] = df_encoded[object_cols].apply(lambda x: x.str.replace(',', '').astype(float))"
   ]
  },
  {
   "cell_type": "code",
   "execution_count": 40,
   "id": "e1f17b78a4e518b6",
   "metadata": {
    "ExecuteTime": {
     "end_time": "2024-05-13T08:34:18.509312Z",
     "start_time": "2024-05-13T08:34:18.503793Z"
    },
    "collapsed": false
   },
   "outputs": [
    {
     "name": "stdout",
     "output_type": "stream",
     "text": [
      "date                       datetime64[ns]\n",
      "BIAS                              float64\n",
      "BOLL                              float64\n",
      "MACD                              float64\n",
      "VMACD                             float64\n",
      "MA                                float64\n",
      "RSI                               float64\n",
      "KDJ                               float64\n",
      "open                              float64\n",
      "high                              float64\n",
      "low                               float64\n",
      "close                             float64\n",
      "change                            float64\n",
      "change_percent                    float64\n",
      "trading_volume                    float64\n",
      "trading_value                     float64\n",
      "IMF1                              float64\n",
      "IMF2                              float64\n",
      "IMF3                              float64\n",
      "change_percent_class_-1              bool\n",
      "change_percent_class_0               bool\n",
      "change_percent_class_1               bool\n",
      "dtype: object\n"
     ]
    }
   ],
   "source": [
    "# 根据日期划分训练集、验证集和测试集\n",
    "train_data = df_encoded[df_encoded[\"date\"].dt.year.between(2013, 2020)]\n",
    "val_data = df_encoded[df_encoded[\"date\"].dt.year.between(2021,2022)]\n",
    "test_data = df_encoded[df_encoded[\"date\"].dt.year.between(2023,2023)]\n",
    "print(df_encoded.dtypes)"
   ]
  },
  {
   "cell_type": "code",
   "execution_count": 41,
   "id": "221503b1d76f6f50",
   "metadata": {
    "ExecuteTime": {
     "end_time": "2024-05-13T08:34:18.605054Z",
     "start_time": "2024-05-13T08:34:18.510565Z"
    },
    "collapsed": false
   },
   "outputs": [
    {
     "name": "stdout",
     "output_type": "stream",
     "text": [
      "Train1 windows shape: (1929, 10, 10)\n",
      "Validation1 windows shape: (475, 10, 10)\n",
      "Test1 windows shape: (232, 10, 10)\n"
     ]
    }
   ],
   "source": [
    "# 创建滑动窗口的函数\n",
    "def create_dataset(X, y, time_steps=10):\n",
    "    Xs, ys = [], []\n",
    "    for i in range(len(X) - time_steps):\n",
    "        Xs.append(X.iloc[i:(i + time_steps)].values)\n",
    "        ys.append(y.iloc[i + time_steps-1])\n",
    "    return np.array(Xs), np.array(ys)\n",
    "\n",
    "# 选择特征和目标列\n",
    "features = ['BIAS','BOLL', 'VMACD','RSI','change','close','trading_value','IMF3','high','MA']\n",
    "target = ['change_percent_class_-1','change_percent_class_0','change_percent_class_1']\n",
    "\n",
    "# 应用滑动窗口\n",
    "X_train, y_train = create_dataset(train_data[features], train_data[target])\n",
    "X_val, y_val = create_dataset(val_data[features], val_data[target])\n",
    "X_test, y_test = create_dataset(test_data[features], test_data[target])\n",
    "\n",
    "# 初始化归一化器并归一化所有数据集\n",
    "scaler_X = MinMaxScaler()\n",
    "\n",
    "\n",
    "X_train_scaled = scaler_X.fit_transform(X_train.reshape(-1, X_train.shape[-1])).reshape(X_train.shape)\n",
    "X_val_scaled = scaler_X.transform(X_val.reshape(-1, X_val.shape[-1])).reshape(X_val.shape)\n",
    "X_test_scaled = scaler_X.transform(X_test.reshape(-1, X_test.shape[-1])).reshape(X_test.shape)\n",
    "\n",
    "# 输出数据维度\n",
    "print(\"Train1 windows shape:\", X_train_scaled.shape)\n",
    "print(\"Validation1 windows shape:\", X_val_scaled.shape)\n",
    "print(\"Test1 windows shape:\", X_test_scaled.shape)\n"
   ]
  },
  {
   "cell_type": "code",
   "execution_count": 42,
   "id": "279424810ecc534b",
   "metadata": {
    "ExecuteTime": {
     "end_time": "2024-05-13T08:34:18.608601Z",
     "start_time": "2024-05-13T08:34:18.604219Z"
    },
    "collapsed": false
   },
   "outputs": [
    {
     "name": "stdout",
     "output_type": "stream",
     "text": [
      "Train1 data range: 0.0 1.0\n",
      "Validation1 data range: -0.03704566004906318 1.096864786947175\n",
      "Test1 data range: 0.08217722346786246 0.9111865572768039\n"
     ]
    }
   ],
   "source": [
    "# 检查数据范围是否正确归一化\n",
    "print(\"Train1 data range:\", X_train_scaled.min(), X_train_scaled.max())\n",
    "print(\"Validation1 data range:\", X_val_scaled.min(), X_val_scaled.max())\n",
    "print(\"Test1 data range:\", X_test_scaled.min(), X_test_scaled.max())"
   ]
  },
  {
   "cell_type": "code",
   "execution_count": 43,
   "id": "69d4244fe5ffc0c2",
   "metadata": {
    "ExecuteTime": {
     "end_time": "2024-05-13T08:34:18.609097Z",
     "start_time": "2024-05-13T08:34:18.607292Z"
    },
    "collapsed": false
   },
   "outputs": [
    {
     "name": "stdout",
     "output_type": "stream",
     "text": [
      "(1929, 3)\n",
      "(475, 3)\n"
     ]
    }
   ],
   "source": [
    "print(y_train.shape)\n",
    "print(y_val.shape)"
   ]
  },
  {
   "cell_type": "code",
   "execution_count": 44,
   "id": "137ed5eb4f256fe9",
   "metadata": {
    "ExecuteTime": {
     "end_time": "2024-05-13T08:34:18.705834Z",
     "start_time": "2024-05-13T08:34:18.615095Z"
    },
    "collapsed": false
   },
   "outputs": [
    {
     "name": "stdout",
     "output_type": "stream",
     "text": [
      "Model: \"model_2\"\n",
      "__________________________________________________________________________________________________\n",
      " Layer (type)                Output Shape                 Param #   Connected to                  \n",
      "==================================================================================================\n",
      " input_3 (InputLayer)        [(None, 10, 10)]             0         []                            \n",
      "                                                                                                  \n",
      " lstm_2 (LSTM)               (None, 10, 80)               29120     ['input_3[0][0]']             \n",
      "                                                                                                  \n",
      " permute_2 (Permute)         (None, 80, 10)               0         ['lstm_2[0][0]']              \n",
      "                                                                                                  \n",
      " dense_6 (Dense)             (None, 80, 10)               110       ['permute_2[0][0]']           \n",
      "                                                                                                  \n",
      " attention (Permute)         (None, 10, 80)               0         ['dense_6[0][0]']             \n",
      "                                                                                                  \n",
      " multiply_2 (Multiply)       (None, 10, 80)               0         ['lstm_2[0][0]',              \n",
      "                                                                     'attention[0][0]']           \n",
      "                                                                                                  \n",
      " attention_sum (Lambda)      (None, 80)                   0         ['multiply_2[0][0]']          \n",
      "                                                                                                  \n",
      " dense_7 (Dense)             (None, 16)                   1296      ['attention_sum[0][0]']       \n",
      "                                                                                                  \n",
      " dense_8 (Dense)             (None, 3)                    51        ['dense_7[0][0]']             \n",
      "                                                                                                  \n",
      "==================================================================================================\n",
      "Total params: 30577 (119.44 KB)\n",
      "Trainable params: 30577 (119.44 KB)\n",
      "Non-trainable params: 0 (0.00 Byte)\n",
      "__________________________________________________________________________________________________\n"
     ]
    }
   ],
   "source": [
    "def attention_layer(inputs, name='attention'):\n",
    "    # 输入形状：(batch_size, time_steps, input_dim)\n",
    "    input_dim = int(inputs.shape[2])\n",
    "    time_steps = int(inputs.shape[1])\n",
    "\n",
    "    # 计算注意力分数\n",
    "    a = Permute((2, 1))(inputs)\n",
    "    a = Dense(time_steps, activation='softmax')(a)\n",
    "    a_probs = Permute((2, 1), name=name)(a)\n",
    "\n",
    "    # 应用注意力权重\n",
    "    output_attention = Multiply()([inputs, a_probs])\n",
    "\n",
    "    # 返回加权的平均向量，即注意力向量\n",
    "    output_attention = Lambda(lambda x: K.sum(x, axis=1), name='attention_sum')(output_attention)\n",
    "    \n",
    "    return output_attention\n",
    "\n",
    "# 定义输入形状\n",
    "T = 10  # 时间步长\n",
    "M = X_train_scaled.shape[1]  # 特征数量\n",
    "\n",
    "# 输入层\n",
    "input_sequence = Input(shape=(T, M))\n",
    "\n",
    "units = 80\n",
    "# LSTM层\n",
    "lstm_out = LSTM(units, return_sequences=True)(input_sequence)\n",
    "\n",
    "# 注意力层\n",
    "attention_out = attention_layer(lstm_out)\n",
    "\n",
    "# 全连接层和分类层\n",
    "final_output = Dense(16, activation='relu')(attention_out)\n",
    "final_output = Dense(3, activation='softmax')(final_output)  # 使用softmax激活函数\n",
    "\n",
    "# 构建模型\n",
    "model = Model(inputs=input_sequence, outputs=final_output)\n",
    "\n",
    "# 输出网络结构\n",
    "model.summary()\n",
    "\n",
    "# 编译模型，使用分类交叉熵作为损失函数\n",
    "model.compile(loss='categorical_crossentropy', optimizer='Adam', metrics=['accuracy'])"
   ]
  },
  {
   "cell_type": "code",
   "execution_count": 45,
   "id": "32fecf852f87c021",
   "metadata": {
    "ExecuteTime": {
     "end_time": "2024-05-13T08:35:01.923783Z",
     "start_time": "2024-05-13T08:34:18.707227Z"
    },
    "collapsed": false
   },
   "outputs": [
    {
     "name": "stdout",
     "output_type": "stream",
     "text": [
      "Epoch 1/200\n",
      "61/61 - 1s - loss: 1.0990 - accuracy: 0.3432 - val_loss: 1.0994 - val_accuracy: 0.3011 - 950ms/epoch - 16ms/step\n",
      "Epoch 2/200\n",
      "61/61 - 0s - loss: 1.0977 - accuracy: 0.3567 - val_loss: 1.1022 - val_accuracy: 0.3095 - 209ms/epoch - 3ms/step\n",
      "Epoch 3/200\n",
      "61/61 - 0s - loss: 1.0953 - accuracy: 0.3551 - val_loss: 1.1043 - val_accuracy: 0.3095 - 215ms/epoch - 4ms/step\n",
      "Epoch 4/200\n",
      "61/61 - 0s - loss: 1.0902 - accuracy: 0.3722 - val_loss: 1.1026 - val_accuracy: 0.3305 - 212ms/epoch - 3ms/step\n",
      "Epoch 5/200\n",
      "61/61 - 0s - loss: 1.0899 - accuracy: 0.3914 - val_loss: 1.1057 - val_accuracy: 0.3389 - 228ms/epoch - 4ms/step\n",
      "Epoch 6/200\n",
      "61/61 - 0s - loss: 1.0883 - accuracy: 0.3810 - val_loss: 1.0968 - val_accuracy: 0.3516 - 213ms/epoch - 3ms/step\n",
      "Epoch 7/200\n",
      "61/61 - 0s - loss: 1.0873 - accuracy: 0.3831 - val_loss: 1.1114 - val_accuracy: 0.3558 - 207ms/epoch - 3ms/step\n",
      "Epoch 8/200\n",
      "61/61 - 0s - loss: 1.0896 - accuracy: 0.3769 - val_loss: 1.0946 - val_accuracy: 0.3811 - 213ms/epoch - 3ms/step\n",
      "Epoch 9/200\n",
      "61/61 - 0s - loss: 1.0854 - accuracy: 0.3821 - val_loss: 1.0938 - val_accuracy: 0.3621 - 224ms/epoch - 4ms/step\n",
      "Epoch 10/200\n",
      "61/61 - 0s - loss: 1.0852 - accuracy: 0.3831 - val_loss: 1.1005 - val_accuracy: 0.3474 - 212ms/epoch - 3ms/step\n",
      "Epoch 11/200\n",
      "61/61 - 0s - loss: 1.0835 - accuracy: 0.3940 - val_loss: 1.0949 - val_accuracy: 0.3389 - 226ms/epoch - 4ms/step\n",
      "Epoch 12/200\n",
      "61/61 - 0s - loss: 1.0813 - accuracy: 0.3893 - val_loss: 1.0928 - val_accuracy: 0.3537 - 221ms/epoch - 4ms/step\n",
      "Epoch 13/200\n",
      "61/61 - 0s - loss: 1.0878 - accuracy: 0.3981 - val_loss: 1.0887 - val_accuracy: 0.3916 - 213ms/epoch - 3ms/step\n",
      "Epoch 14/200\n",
      "61/61 - 0s - loss: 1.0792 - accuracy: 0.4007 - val_loss: 1.1093 - val_accuracy: 0.3726 - 209ms/epoch - 3ms/step\n",
      "Epoch 15/200\n",
      "61/61 - 0s - loss: 1.0821 - accuracy: 0.3997 - val_loss: 1.0849 - val_accuracy: 0.3853 - 209ms/epoch - 3ms/step\n",
      "Epoch 16/200\n",
      "61/61 - 0s - loss: 1.0754 - accuracy: 0.4095 - val_loss: 1.0924 - val_accuracy: 0.3453 - 227ms/epoch - 4ms/step\n",
      "Epoch 17/200\n",
      "61/61 - 0s - loss: 1.0768 - accuracy: 0.4018 - val_loss: 1.0835 - val_accuracy: 0.3768 - 212ms/epoch - 3ms/step\n",
      "Epoch 18/200\n",
      "61/61 - 0s - loss: 1.0745 - accuracy: 0.4044 - val_loss: 1.1047 - val_accuracy: 0.3432 - 225ms/epoch - 4ms/step\n",
      "Epoch 19/200\n",
      "61/61 - 0s - loss: 1.0758 - accuracy: 0.4069 - val_loss: 1.0870 - val_accuracy: 0.3874 - 210ms/epoch - 3ms/step\n",
      "Epoch 20/200\n",
      "61/61 - 0s - loss: 1.0735 - accuracy: 0.4018 - val_loss: 1.0824 - val_accuracy: 0.3811 - 218ms/epoch - 4ms/step\n",
      "Epoch 21/200\n",
      "61/61 - 0s - loss: 1.0750 - accuracy: 0.3950 - val_loss: 1.0824 - val_accuracy: 0.3768 - 214ms/epoch - 4ms/step\n",
      "Epoch 22/200\n",
      "61/61 - 0s - loss: 1.0773 - accuracy: 0.4044 - val_loss: 1.0853 - val_accuracy: 0.3558 - 214ms/epoch - 4ms/step\n",
      "Epoch 23/200\n",
      "61/61 - 0s - loss: 1.0688 - accuracy: 0.4023 - val_loss: 1.0885 - val_accuracy: 0.3768 - 211ms/epoch - 3ms/step\n",
      "Epoch 24/200\n",
      "61/61 - 0s - loss: 1.0697 - accuracy: 0.4054 - val_loss: 1.0903 - val_accuracy: 0.3979 - 210ms/epoch - 3ms/step\n",
      "Epoch 25/200\n",
      "61/61 - 0s - loss: 1.0672 - accuracy: 0.4069 - val_loss: 1.0953 - val_accuracy: 0.3558 - 212ms/epoch - 3ms/step\n",
      "Epoch 26/200\n",
      "61/61 - 0s - loss: 1.0759 - accuracy: 0.3945 - val_loss: 1.1108 - val_accuracy: 0.3516 - 212ms/epoch - 3ms/step\n",
      "Epoch 27/200\n",
      "61/61 - 0s - loss: 1.0721 - accuracy: 0.3945 - val_loss: 1.0836 - val_accuracy: 0.3579 - 211ms/epoch - 3ms/step\n",
      "Epoch 28/200\n",
      "61/61 - 0s - loss: 1.0619 - accuracy: 0.4230 - val_loss: 1.0960 - val_accuracy: 0.4021 - 209ms/epoch - 3ms/step\n",
      "Epoch 29/200\n",
      "61/61 - 0s - loss: 1.0599 - accuracy: 0.4292 - val_loss: 1.0902 - val_accuracy: 0.4021 - 210ms/epoch - 3ms/step\n",
      "Epoch 30/200\n",
      "61/61 - 0s - loss: 1.0628 - accuracy: 0.4121 - val_loss: 1.0809 - val_accuracy: 0.4042 - 211ms/epoch - 3ms/step\n",
      "Epoch 31/200\n",
      "61/61 - 0s - loss: 1.0637 - accuracy: 0.4241 - val_loss: 1.0761 - val_accuracy: 0.3958 - 210ms/epoch - 3ms/step\n",
      "Epoch 32/200\n",
      "61/61 - 0s - loss: 1.0578 - accuracy: 0.4313 - val_loss: 1.0927 - val_accuracy: 0.3684 - 211ms/epoch - 3ms/step\n",
      "Epoch 33/200\n",
      "61/61 - 0s - loss: 1.0550 - accuracy: 0.4225 - val_loss: 1.0984 - val_accuracy: 0.3684 - 211ms/epoch - 3ms/step\n",
      "Epoch 34/200\n",
      "61/61 - 0s - loss: 1.0555 - accuracy: 0.4256 - val_loss: 1.0863 - val_accuracy: 0.4042 - 210ms/epoch - 3ms/step\n",
      "Epoch 35/200\n",
      "61/61 - 0s - loss: 1.0598 - accuracy: 0.4272 - val_loss: 1.0811 - val_accuracy: 0.3958 - 215ms/epoch - 4ms/step\n",
      "Epoch 36/200\n",
      "61/61 - 0s - loss: 1.0518 - accuracy: 0.4339 - val_loss: 1.1012 - val_accuracy: 0.3516 - 211ms/epoch - 3ms/step\n",
      "Epoch 37/200\n",
      "61/61 - 0s - loss: 1.0558 - accuracy: 0.4235 - val_loss: 1.0838 - val_accuracy: 0.3663 - 213ms/epoch - 3ms/step\n",
      "Epoch 38/200\n",
      "61/61 - 0s - loss: 1.0509 - accuracy: 0.4360 - val_loss: 1.0989 - val_accuracy: 0.3747 - 210ms/epoch - 3ms/step\n",
      "Epoch 39/200\n",
      "61/61 - 0s - loss: 1.0522 - accuracy: 0.4261 - val_loss: 1.1235 - val_accuracy: 0.3621 - 210ms/epoch - 3ms/step\n",
      "Epoch 40/200\n",
      "61/61 - 0s - loss: 1.0518 - accuracy: 0.4298 - val_loss: 1.0856 - val_accuracy: 0.3853 - 209ms/epoch - 3ms/step\n",
      "Epoch 41/200\n",
      "61/61 - 0s - loss: 1.0506 - accuracy: 0.4313 - val_loss: 1.0786 - val_accuracy: 0.4084 - 213ms/epoch - 3ms/step\n",
      "Epoch 42/200\n",
      "61/61 - 0s - loss: 1.0452 - accuracy: 0.4318 - val_loss: 1.0877 - val_accuracy: 0.3663 - 215ms/epoch - 4ms/step\n",
      "Epoch 43/200\n",
      "61/61 - 0s - loss: 1.0431 - accuracy: 0.4355 - val_loss: 1.0973 - val_accuracy: 0.3474 - 212ms/epoch - 3ms/step\n",
      "Epoch 44/200\n",
      "61/61 - 0s - loss: 1.0464 - accuracy: 0.4453 - val_loss: 1.0822 - val_accuracy: 0.4126 - 213ms/epoch - 3ms/step\n",
      "Epoch 45/200\n",
      "61/61 - 0s - loss: 1.0395 - accuracy: 0.4391 - val_loss: 1.0907 - val_accuracy: 0.4084 - 211ms/epoch - 3ms/step\n",
      "Epoch 46/200\n",
      "61/61 - 0s - loss: 1.0445 - accuracy: 0.4406 - val_loss: 1.0827 - val_accuracy: 0.3979 - 214ms/epoch - 4ms/step\n",
      "Epoch 47/200\n",
      "61/61 - 0s - loss: 1.0442 - accuracy: 0.4453 - val_loss: 1.0885 - val_accuracy: 0.3684 - 211ms/epoch - 3ms/step\n",
      "Epoch 48/200\n",
      "61/61 - 0s - loss: 1.0417 - accuracy: 0.4484 - val_loss: 1.0981 - val_accuracy: 0.3705 - 212ms/epoch - 3ms/step\n",
      "Epoch 49/200\n",
      "61/61 - 0s - loss: 1.0382 - accuracy: 0.4427 - val_loss: 1.0808 - val_accuracy: 0.4105 - 213ms/epoch - 3ms/step\n",
      "Epoch 50/200\n",
      "61/61 - 0s - loss: 1.0403 - accuracy: 0.4474 - val_loss: 1.0951 - val_accuracy: 0.3916 - 211ms/epoch - 3ms/step\n",
      "Epoch 51/200\n",
      "61/61 - 0s - loss: 1.0379 - accuracy: 0.4479 - val_loss: 1.0861 - val_accuracy: 0.4084 - 212ms/epoch - 3ms/step\n",
      "Epoch 52/200\n",
      "61/61 - 0s - loss: 1.0357 - accuracy: 0.4422 - val_loss: 1.0896 - val_accuracy: 0.4000 - 210ms/epoch - 3ms/step\n",
      "Epoch 53/200\n",
      "61/61 - 0s - loss: 1.0333 - accuracy: 0.4562 - val_loss: 1.1051 - val_accuracy: 0.4232 - 212ms/epoch - 3ms/step\n",
      "Epoch 54/200\n",
      "61/61 - 0s - loss: 1.0376 - accuracy: 0.4386 - val_loss: 1.0772 - val_accuracy: 0.4105 - 211ms/epoch - 3ms/step\n",
      "Epoch 55/200\n",
      "61/61 - 0s - loss: 1.0355 - accuracy: 0.4546 - val_loss: 1.0854 - val_accuracy: 0.4253 - 211ms/epoch - 3ms/step\n",
      "Epoch 56/200\n",
      "61/61 - 0s - loss: 1.0353 - accuracy: 0.4443 - val_loss: 1.0926 - val_accuracy: 0.3684 - 212ms/epoch - 3ms/step\n",
      "Epoch 57/200\n",
      "61/61 - 0s - loss: 1.0329 - accuracy: 0.4500 - val_loss: 1.1028 - val_accuracy: 0.3600 - 209ms/epoch - 3ms/step\n",
      "Epoch 58/200\n",
      "61/61 - 0s - loss: 1.0299 - accuracy: 0.4526 - val_loss: 1.0989 - val_accuracy: 0.3853 - 212ms/epoch - 3ms/step\n",
      "Epoch 59/200\n",
      "61/61 - 0s - loss: 1.0316 - accuracy: 0.4479 - val_loss: 1.0845 - val_accuracy: 0.3958 - 211ms/epoch - 3ms/step\n",
      "Epoch 60/200\n",
      "61/61 - 0s - loss: 1.0338 - accuracy: 0.4412 - val_loss: 1.1060 - val_accuracy: 0.3853 - 213ms/epoch - 3ms/step\n",
      "Epoch 61/200\n",
      "61/61 - 0s - loss: 1.0247 - accuracy: 0.4515 - val_loss: 1.0886 - val_accuracy: 0.3958 - 209ms/epoch - 3ms/step\n",
      "Epoch 62/200\n",
      "61/61 - 0s - loss: 1.0322 - accuracy: 0.4443 - val_loss: 1.1031 - val_accuracy: 0.3621 - 210ms/epoch - 3ms/step\n",
      "Epoch 63/200\n",
      "61/61 - 0s - loss: 1.0314 - accuracy: 0.4443 - val_loss: 1.1043 - val_accuracy: 0.3705 - 211ms/epoch - 3ms/step\n",
      "Epoch 64/200\n",
      "61/61 - 0s - loss: 1.0209 - accuracy: 0.4526 - val_loss: 1.1012 - val_accuracy: 0.3747 - 209ms/epoch - 3ms/step\n",
      "Epoch 65/200\n",
      "61/61 - 0s - loss: 1.0306 - accuracy: 0.4500 - val_loss: 1.1194 - val_accuracy: 0.3663 - 210ms/epoch - 3ms/step\n",
      "Epoch 66/200\n",
      "61/61 - 0s - loss: 1.0268 - accuracy: 0.4526 - val_loss: 1.0910 - val_accuracy: 0.4063 - 212ms/epoch - 3ms/step\n",
      "Epoch 67/200\n",
      "61/61 - 0s - loss: 1.0251 - accuracy: 0.4500 - val_loss: 1.1005 - val_accuracy: 0.3642 - 213ms/epoch - 3ms/step\n",
      "Epoch 68/200\n",
      "61/61 - 0s - loss: 1.0169 - accuracy: 0.4759 - val_loss: 1.1367 - val_accuracy: 0.4063 - 210ms/epoch - 3ms/step\n",
      "Epoch 69/200\n",
      "61/61 - 0s - loss: 1.0247 - accuracy: 0.4489 - val_loss: 1.0863 - val_accuracy: 0.3937 - 212ms/epoch - 3ms/step\n",
      "Epoch 70/200\n",
      "61/61 - 0s - loss: 1.0233 - accuracy: 0.4567 - val_loss: 1.1082 - val_accuracy: 0.3684 - 210ms/epoch - 3ms/step\n",
      "Epoch 71/200\n",
      "61/61 - 0s - loss: 1.0152 - accuracy: 0.4619 - val_loss: 1.0978 - val_accuracy: 0.3747 - 211ms/epoch - 3ms/step\n",
      "Epoch 72/200\n",
      "61/61 - 0s - loss: 1.0233 - accuracy: 0.4598 - val_loss: 1.1037 - val_accuracy: 0.3895 - 210ms/epoch - 3ms/step\n",
      "Epoch 73/200\n",
      "61/61 - 0s - loss: 1.0176 - accuracy: 0.4552 - val_loss: 1.0987 - val_accuracy: 0.3600 - 209ms/epoch - 3ms/step\n",
      "Epoch 74/200\n",
      "61/61 - 0s - loss: 1.0197 - accuracy: 0.4463 - val_loss: 1.1313 - val_accuracy: 0.3705 - 210ms/epoch - 3ms/step\n",
      "Epoch 75/200\n",
      "61/61 - 0s - loss: 1.0214 - accuracy: 0.4769 - val_loss: 1.0927 - val_accuracy: 0.3789 - 212ms/epoch - 3ms/step\n",
      "Epoch 76/200\n",
      "61/61 - 0s - loss: 1.0157 - accuracy: 0.4692 - val_loss: 1.0926 - val_accuracy: 0.3621 - 210ms/epoch - 3ms/step\n",
      "Epoch 77/200\n",
      "61/61 - 0s - loss: 1.0133 - accuracy: 0.4645 - val_loss: 1.1068 - val_accuracy: 0.3979 - 210ms/epoch - 3ms/step\n",
      "Epoch 78/200\n",
      "61/61 - 0s - loss: 1.0188 - accuracy: 0.4546 - val_loss: 1.1029 - val_accuracy: 0.3726 - 211ms/epoch - 3ms/step\n",
      "Epoch 79/200\n",
      "61/61 - 0s - loss: 1.0115 - accuracy: 0.4609 - val_loss: 1.1063 - val_accuracy: 0.3663 - 212ms/epoch - 3ms/step\n",
      "Epoch 80/200\n",
      "61/61 - 0s - loss: 1.0096 - accuracy: 0.4650 - val_loss: 1.0788 - val_accuracy: 0.3832 - 209ms/epoch - 3ms/step\n",
      "Epoch 81/200\n",
      "61/61 - 0s - loss: 1.0112 - accuracy: 0.4692 - val_loss: 1.1123 - val_accuracy: 0.3726 - 210ms/epoch - 3ms/step\n",
      "Epoch 82/200\n",
      "61/61 - 0s - loss: 1.0083 - accuracy: 0.4780 - val_loss: 1.1120 - val_accuracy: 0.3874 - 209ms/epoch - 3ms/step\n",
      "Epoch 83/200\n",
      "61/61 - 0s - loss: 1.0097 - accuracy: 0.4650 - val_loss: 1.1823 - val_accuracy: 0.3768 - 211ms/epoch - 3ms/step\n",
      "Epoch 84/200\n",
      "61/61 - 0s - loss: 1.0080 - accuracy: 0.4645 - val_loss: 1.1077 - val_accuracy: 0.3663 - 212ms/epoch - 3ms/step\n",
      "Epoch 85/200\n",
      "61/61 - 0s - loss: 1.0051 - accuracy: 0.4697 - val_loss: 1.1080 - val_accuracy: 0.3768 - 211ms/epoch - 3ms/step\n",
      "Epoch 86/200\n",
      "61/61 - 0s - loss: 1.0089 - accuracy: 0.4733 - val_loss: 1.0992 - val_accuracy: 0.3642 - 212ms/epoch - 3ms/step\n",
      "Epoch 87/200\n",
      "61/61 - 0s - loss: 1.0070 - accuracy: 0.4733 - val_loss: 1.1078 - val_accuracy: 0.3558 - 208ms/epoch - 3ms/step\n",
      "Epoch 88/200\n",
      "61/61 - 0s - loss: 1.0024 - accuracy: 0.4738 - val_loss: 1.1073 - val_accuracy: 0.3768 - 210ms/epoch - 3ms/step\n",
      "Epoch 89/200\n",
      "61/61 - 0s - loss: 1.0024 - accuracy: 0.4930 - val_loss: 1.1072 - val_accuracy: 0.3600 - 212ms/epoch - 3ms/step\n",
      "Epoch 90/200\n",
      "61/61 - 0s - loss: 1.0015 - accuracy: 0.4832 - val_loss: 1.1275 - val_accuracy: 0.3453 - 210ms/epoch - 3ms/step\n",
      "Epoch 91/200\n",
      "61/61 - 0s - loss: 0.9926 - accuracy: 0.4873 - val_loss: 1.1686 - val_accuracy: 0.3600 - 212ms/epoch - 3ms/step\n",
      "Epoch 92/200\n",
      "61/61 - 0s - loss: 1.0030 - accuracy: 0.4795 - val_loss: 1.1356 - val_accuracy: 0.3768 - 210ms/epoch - 3ms/step\n",
      "Epoch 93/200\n",
      "61/61 - 0s - loss: 0.9953 - accuracy: 0.4842 - val_loss: 1.1133 - val_accuracy: 0.3684 - 209ms/epoch - 3ms/step\n",
      "Epoch 94/200\n",
      "61/61 - 0s - loss: 0.9910 - accuracy: 0.4904 - val_loss: 1.1479 - val_accuracy: 0.3768 - 213ms/epoch - 3ms/step\n",
      "Epoch 95/200\n",
      "61/61 - 0s - loss: 0.9919 - accuracy: 0.4857 - val_loss: 1.0869 - val_accuracy: 0.3853 - 209ms/epoch - 3ms/step\n",
      "Epoch 96/200\n",
      "61/61 - 0s - loss: 0.9909 - accuracy: 0.4754 - val_loss: 1.1494 - val_accuracy: 0.3726 - 212ms/epoch - 3ms/step\n",
      "Epoch 97/200\n",
      "61/61 - 0s - loss: 0.9952 - accuracy: 0.4764 - val_loss: 1.1527 - val_accuracy: 0.3432 - 211ms/epoch - 3ms/step\n",
      "Epoch 98/200\n",
      "61/61 - 0s - loss: 0.9817 - accuracy: 0.4847 - val_loss: 1.1254 - val_accuracy: 0.3516 - 211ms/epoch - 3ms/step\n",
      "Epoch 99/200\n",
      "61/61 - 0s - loss: 0.9831 - accuracy: 0.4920 - val_loss: 1.1194 - val_accuracy: 0.3811 - 210ms/epoch - 3ms/step\n",
      "Epoch 100/200\n",
      "61/61 - 0s - loss: 0.9900 - accuracy: 0.4754 - val_loss: 1.1087 - val_accuracy: 0.3726 - 209ms/epoch - 3ms/step\n",
      "Epoch 101/200\n",
      "61/61 - 0s - loss: 0.9857 - accuracy: 0.4816 - val_loss: 1.1350 - val_accuracy: 0.3811 - 215ms/epoch - 4ms/step\n",
      "Epoch 102/200\n",
      "61/61 - 0s - loss: 0.9752 - accuracy: 0.4821 - val_loss: 1.1235 - val_accuracy: 0.3558 - 210ms/epoch - 3ms/step\n",
      "Epoch 103/200\n",
      "61/61 - 0s - loss: 0.9744 - accuracy: 0.4889 - val_loss: 1.1406 - val_accuracy: 0.3558 - 212ms/epoch - 3ms/step\n",
      "Epoch 104/200\n",
      "61/61 - 0s - loss: 0.9745 - accuracy: 0.5054 - val_loss: 1.1408 - val_accuracy: 0.3705 - 210ms/epoch - 3ms/step\n",
      "Epoch 105/200\n",
      "61/61 - 0s - loss: 0.9785 - accuracy: 0.4832 - val_loss: 1.1393 - val_accuracy: 0.3558 - 211ms/epoch - 3ms/step\n",
      "Epoch 106/200\n",
      "61/61 - 0s - loss: 0.9789 - accuracy: 0.4909 - val_loss: 1.1156 - val_accuracy: 0.3853 - 210ms/epoch - 3ms/step\n",
      "Epoch 107/200\n",
      "61/61 - 0s - loss: 0.9661 - accuracy: 0.5023 - val_loss: 1.1789 - val_accuracy: 0.3874 - 209ms/epoch - 3ms/step\n",
      "Epoch 108/200\n",
      "61/61 - 0s - loss: 0.9670 - accuracy: 0.5096 - val_loss: 1.1319 - val_accuracy: 0.3832 - 212ms/epoch - 3ms/step\n",
      "Epoch 109/200\n",
      "61/61 - 0s - loss: 0.9836 - accuracy: 0.4857 - val_loss: 1.1660 - val_accuracy: 0.3621 - 207ms/epoch - 3ms/step\n",
      "Epoch 110/200\n",
      "61/61 - 0s - loss: 0.9644 - accuracy: 0.4992 - val_loss: 1.1864 - val_accuracy: 0.3811 - 210ms/epoch - 3ms/step\n",
      "Epoch 111/200\n",
      "61/61 - 0s - loss: 0.9594 - accuracy: 0.5080 - val_loss: 1.1420 - val_accuracy: 0.3832 - 210ms/epoch - 3ms/step\n",
      "Epoch 112/200\n",
      "61/61 - 0s - loss: 0.9504 - accuracy: 0.5143 - val_loss: 1.1653 - val_accuracy: 0.3726 - 212ms/epoch - 3ms/step\n",
      "Epoch 113/200\n",
      "61/61 - 0s - loss: 0.9561 - accuracy: 0.5060 - val_loss: 1.1769 - val_accuracy: 0.3874 - 209ms/epoch - 3ms/step\n",
      "Epoch 114/200\n",
      "61/61 - 0s - loss: 0.9472 - accuracy: 0.5075 - val_loss: 1.2037 - val_accuracy: 0.3832 - 211ms/epoch - 3ms/step\n",
      "Epoch 115/200\n",
      "61/61 - 0s - loss: 0.9530 - accuracy: 0.5200 - val_loss: 1.2115 - val_accuracy: 0.3705 - 212ms/epoch - 3ms/step\n",
      "Epoch 116/200\n",
      "61/61 - 0s - loss: 0.9391 - accuracy: 0.5189 - val_loss: 1.2145 - val_accuracy: 0.3516 - 212ms/epoch - 3ms/step\n",
      "Epoch 117/200\n",
      "61/61 - 0s - loss: 0.9419 - accuracy: 0.5226 - val_loss: 1.2530 - val_accuracy: 0.3432 - 212ms/epoch - 3ms/step\n",
      "Epoch 118/200\n",
      "61/61 - 0s - loss: 0.9465 - accuracy: 0.5096 - val_loss: 1.2314 - val_accuracy: 0.3516 - 209ms/epoch - 3ms/step\n",
      "Epoch 119/200\n",
      "61/61 - 0s - loss: 0.9345 - accuracy: 0.5174 - val_loss: 1.2911 - val_accuracy: 0.3600 - 210ms/epoch - 3ms/step\n",
      "Epoch 120/200\n",
      "61/61 - 0s - loss: 0.9354 - accuracy: 0.5163 - val_loss: 1.2186 - val_accuracy: 0.3684 - 212ms/epoch - 3ms/step\n",
      "Epoch 121/200\n",
      "61/61 - 0s - loss: 0.9330 - accuracy: 0.5226 - val_loss: 1.2859 - val_accuracy: 0.3684 - 208ms/epoch - 3ms/step\n",
      "Epoch 122/200\n",
      "61/61 - 0s - loss: 0.9252 - accuracy: 0.5308 - val_loss: 1.2702 - val_accuracy: 0.3432 - 210ms/epoch - 3ms/step\n",
      "Epoch 123/200\n",
      "61/61 - 0s - loss: 0.9216 - accuracy: 0.5288 - val_loss: 1.2369 - val_accuracy: 0.3768 - 210ms/epoch - 3ms/step\n",
      "Epoch 124/200\n",
      "61/61 - 0s - loss: 0.9295 - accuracy: 0.5189 - val_loss: 1.3108 - val_accuracy: 0.3368 - 211ms/epoch - 3ms/step\n",
      "Epoch 125/200\n",
      "61/61 - 0s - loss: 0.9227 - accuracy: 0.5329 - val_loss: 1.3931 - val_accuracy: 0.3621 - 209ms/epoch - 3ms/step\n",
      "Epoch 126/200\n",
      "61/61 - 0s - loss: 0.9219 - accuracy: 0.5303 - val_loss: 1.2641 - val_accuracy: 0.3789 - 211ms/epoch - 3ms/step\n",
      "Epoch 127/200\n",
      "61/61 - 0s - loss: 0.9110 - accuracy: 0.5334 - val_loss: 1.3332 - val_accuracy: 0.3495 - 211ms/epoch - 3ms/step\n",
      "Epoch 128/200\n",
      "61/61 - 0s - loss: 0.9085 - accuracy: 0.5448 - val_loss: 1.3548 - val_accuracy: 0.3832 - 210ms/epoch - 3ms/step\n",
      "Epoch 129/200\n",
      "61/61 - 0s - loss: 0.9098 - accuracy: 0.5324 - val_loss: 1.3929 - val_accuracy: 0.3537 - 212ms/epoch - 3ms/step\n",
      "Epoch 130/200\n",
      "61/61 - 0s - loss: 0.9034 - accuracy: 0.5314 - val_loss: 1.3765 - val_accuracy: 0.3495 - 209ms/epoch - 3ms/step\n",
      "Epoch 131/200\n",
      "61/61 - 0s - loss: 0.8915 - accuracy: 0.5552 - val_loss: 1.3530 - val_accuracy: 0.3663 - 211ms/epoch - 3ms/step\n",
      "Epoch 132/200\n",
      "61/61 - 0s - loss: 0.8950 - accuracy: 0.5454 - val_loss: 1.3011 - val_accuracy: 0.3853 - 209ms/epoch - 3ms/step\n",
      "Epoch 133/200\n",
      "61/61 - 0s - loss: 0.8864 - accuracy: 0.5588 - val_loss: 1.3521 - val_accuracy: 0.3726 - 211ms/epoch - 3ms/step\n",
      "Epoch 134/200\n",
      "61/61 - 0s - loss: 0.8843 - accuracy: 0.5521 - val_loss: 1.3576 - val_accuracy: 0.3537 - 212ms/epoch - 3ms/step\n",
      "Epoch 135/200\n",
      "61/61 - 0s - loss: 0.8774 - accuracy: 0.5485 - val_loss: 1.4264 - val_accuracy: 0.3579 - 212ms/epoch - 3ms/step\n",
      "Epoch 136/200\n",
      "61/61 - 0s - loss: 0.8659 - accuracy: 0.5614 - val_loss: 1.4492 - val_accuracy: 0.3789 - 211ms/epoch - 3ms/step\n",
      "Epoch 137/200\n",
      "61/61 - 0s - loss: 0.8971 - accuracy: 0.5407 - val_loss: 1.5121 - val_accuracy: 0.3874 - 208ms/epoch - 3ms/step\n",
      "Epoch 138/200\n",
      "61/61 - 0s - loss: 0.8886 - accuracy: 0.5500 - val_loss: 1.4157 - val_accuracy: 0.3853 - 212ms/epoch - 3ms/step\n",
      "Epoch 139/200\n",
      "61/61 - 0s - loss: 0.8645 - accuracy: 0.5723 - val_loss: 1.4028 - val_accuracy: 0.3705 - 212ms/epoch - 3ms/step\n",
      "Epoch 140/200\n",
      "61/61 - 0s - loss: 0.8667 - accuracy: 0.5573 - val_loss: 1.4798 - val_accuracy: 0.3726 - 210ms/epoch - 3ms/step\n",
      "Epoch 141/200\n",
      "61/61 - 0s - loss: 0.8552 - accuracy: 0.5594 - val_loss: 1.5197 - val_accuracy: 0.3684 - 212ms/epoch - 3ms/step\n",
      "Epoch 142/200\n",
      "61/61 - 0s - loss: 0.8460 - accuracy: 0.5754 - val_loss: 1.5055 - val_accuracy: 0.3684 - 210ms/epoch - 3ms/step\n",
      "Epoch 143/200\n",
      "61/61 - 0s - loss: 0.8427 - accuracy: 0.5868 - val_loss: 1.5887 - val_accuracy: 0.3726 - 210ms/epoch - 3ms/step\n",
      "Epoch 144/200\n",
      "61/61 - 0s - loss: 0.8412 - accuracy: 0.5702 - val_loss: 1.4995 - val_accuracy: 0.3811 - 209ms/epoch - 3ms/step\n",
      "Epoch 145/200\n",
      "61/61 - 0s - loss: 0.8670 - accuracy: 0.5661 - val_loss: 1.5027 - val_accuracy: 0.3832 - 210ms/epoch - 3ms/step\n",
      "Epoch 146/200\n",
      "61/61 - 0s - loss: 0.8303 - accuracy: 0.5796 - val_loss: 1.5804 - val_accuracy: 0.3600 - 212ms/epoch - 3ms/step\n",
      "Epoch 147/200\n",
      "61/61 - 0s - loss: 0.8189 - accuracy: 0.5988 - val_loss: 1.4607 - val_accuracy: 0.3768 - 210ms/epoch - 3ms/step\n",
      "Epoch 148/200\n",
      "61/61 - 0s - loss: 0.8131 - accuracy: 0.6065 - val_loss: 1.6273 - val_accuracy: 0.3432 - 210ms/epoch - 3ms/step\n",
      "Epoch 149/200\n",
      "61/61 - 0s - loss: 0.7974 - accuracy: 0.6081 - val_loss: 1.6524 - val_accuracy: 0.3516 - 208ms/epoch - 3ms/step\n",
      "Epoch 150/200\n",
      "61/61 - 0s - loss: 0.8027 - accuracy: 0.6086 - val_loss: 1.6540 - val_accuracy: 0.3642 - 210ms/epoch - 3ms/step\n",
      "Epoch 151/200\n",
      "61/61 - 0s - loss: 0.7967 - accuracy: 0.6128 - val_loss: 1.7431 - val_accuracy: 0.3958 - 210ms/epoch - 3ms/step\n",
      "Epoch 152/200\n",
      "61/61 - 0s - loss: 0.7945 - accuracy: 0.6065 - val_loss: 1.6727 - val_accuracy: 0.3600 - 210ms/epoch - 3ms/step\n",
      "Epoch 153/200\n",
      "61/61 - 0s - loss: 0.7724 - accuracy: 0.6283 - val_loss: 1.7606 - val_accuracy: 0.3768 - 211ms/epoch - 3ms/step\n",
      "Epoch 154/200\n",
      "61/61 - 0s - loss: 0.7792 - accuracy: 0.6174 - val_loss: 1.7900 - val_accuracy: 0.3642 - 217ms/epoch - 4ms/step\n",
      "Epoch 155/200\n",
      "61/61 - 0s - loss: 0.7744 - accuracy: 0.6278 - val_loss: 1.7478 - val_accuracy: 0.3895 - 211ms/epoch - 3ms/step\n",
      "Epoch 156/200\n",
      "61/61 - 0s - loss: 0.7609 - accuracy: 0.6397 - val_loss: 1.7983 - val_accuracy: 0.3916 - 209ms/epoch - 3ms/step\n",
      "Epoch 157/200\n",
      "61/61 - 0s - loss: 0.7678 - accuracy: 0.6133 - val_loss: 1.7615 - val_accuracy: 0.3853 - 210ms/epoch - 3ms/step\n",
      "Epoch 158/200\n",
      "61/61 - 0s - loss: 0.7709 - accuracy: 0.6309 - val_loss: 1.8013 - val_accuracy: 0.3621 - 210ms/epoch - 3ms/step\n",
      "Epoch 159/200\n",
      "61/61 - 0s - loss: 0.7505 - accuracy: 0.6371 - val_loss: 1.8260 - val_accuracy: 0.3789 - 210ms/epoch - 3ms/step\n",
      "Epoch 160/200\n",
      "61/61 - 0s - loss: 0.7407 - accuracy: 0.6397 - val_loss: 1.8047 - val_accuracy: 0.3937 - 214ms/epoch - 4ms/step\n",
      "Epoch 161/200\n",
      "61/61 - 0s - loss: 0.7499 - accuracy: 0.6413 - val_loss: 1.8338 - val_accuracy: 0.3874 - 212ms/epoch - 3ms/step\n",
      "Epoch 162/200\n",
      "61/61 - 0s - loss: 0.7193 - accuracy: 0.6506 - val_loss: 1.8490 - val_accuracy: 0.4042 - 213ms/epoch - 3ms/step\n",
      "Epoch 163/200\n",
      "61/61 - 0s - loss: 0.6971 - accuracy: 0.6641 - val_loss: 1.9886 - val_accuracy: 0.4126 - 212ms/epoch - 3ms/step\n",
      "Epoch 164/200\n",
      "61/61 - 0s - loss: 0.7131 - accuracy: 0.6584 - val_loss: 1.9260 - val_accuracy: 0.3937 - 212ms/epoch - 3ms/step\n",
      "Epoch 165/200\n",
      "61/61 - 0s - loss: 0.7222 - accuracy: 0.6475 - val_loss: 1.8749 - val_accuracy: 0.3979 - 212ms/epoch - 3ms/step\n",
      "Epoch 166/200\n",
      "61/61 - 0s - loss: 0.7062 - accuracy: 0.6620 - val_loss: 2.0115 - val_accuracy: 0.3747 - 210ms/epoch - 3ms/step\n",
      "Epoch 167/200\n",
      "61/61 - 0s - loss: 0.6902 - accuracy: 0.6651 - val_loss: 1.9997 - val_accuracy: 0.3874 - 212ms/epoch - 3ms/step\n",
      "Epoch 168/200\n",
      "61/61 - 0s - loss: 0.6950 - accuracy: 0.6682 - val_loss: 2.0251 - val_accuracy: 0.3916 - 213ms/epoch - 3ms/step\n",
      "Epoch 169/200\n",
      "61/61 - 0s - loss: 0.6666 - accuracy: 0.6807 - val_loss: 2.1124 - val_accuracy: 0.3768 - 211ms/epoch - 3ms/step\n",
      "Epoch 170/200\n",
      "61/61 - 0s - loss: 0.6787 - accuracy: 0.6656 - val_loss: 2.0690 - val_accuracy: 0.3895 - 212ms/epoch - 3ms/step\n",
      "Epoch 171/200\n",
      "61/61 - 0s - loss: 0.7054 - accuracy: 0.6636 - val_loss: 2.0256 - val_accuracy: 0.3768 - 210ms/epoch - 3ms/step\n",
      "Epoch 172/200\n",
      "61/61 - 0s - loss: 0.6503 - accuracy: 0.6900 - val_loss: 2.1200 - val_accuracy: 0.3853 - 212ms/epoch - 3ms/step\n",
      "Epoch 173/200\n",
      "61/61 - 0s - loss: 0.6422 - accuracy: 0.6921 - val_loss: 2.0967 - val_accuracy: 0.3832 - 210ms/epoch - 3ms/step\n",
      "Epoch 174/200\n",
      "61/61 - 0s - loss: 0.6322 - accuracy: 0.7097 - val_loss: 2.1444 - val_accuracy: 0.3895 - 209ms/epoch - 3ms/step\n",
      "Epoch 175/200\n",
      "61/61 - 0s - loss: 0.6515 - accuracy: 0.6884 - val_loss: 2.2628 - val_accuracy: 0.3916 - 210ms/epoch - 3ms/step\n",
      "Epoch 176/200\n",
      "61/61 - 0s - loss: 0.6694 - accuracy: 0.6755 - val_loss: 2.0914 - val_accuracy: 0.3747 - 212ms/epoch - 3ms/step\n",
      "Epoch 177/200\n",
      "61/61 - 0s - loss: 0.6247 - accuracy: 0.7045 - val_loss: 2.2554 - val_accuracy: 0.3726 - 211ms/epoch - 3ms/step\n",
      "Epoch 178/200\n",
      "61/61 - 0s - loss: 0.6108 - accuracy: 0.7180 - val_loss: 2.2940 - val_accuracy: 0.3916 - 209ms/epoch - 3ms/step\n",
      "Epoch 179/200\n",
      "61/61 - 0s - loss: 0.6020 - accuracy: 0.7159 - val_loss: 2.3606 - val_accuracy: 0.3684 - 210ms/epoch - 3ms/step\n",
      "Epoch 180/200\n",
      "61/61 - 0s - loss: 0.6230 - accuracy: 0.7112 - val_loss: 2.3582 - val_accuracy: 0.3811 - 212ms/epoch - 3ms/step\n",
      "Epoch 181/200\n",
      "61/61 - 0s - loss: 0.6326 - accuracy: 0.7014 - val_loss: 2.2534 - val_accuracy: 0.3747 - 212ms/epoch - 3ms/step\n",
      "Epoch 182/200\n",
      "61/61 - 0s - loss: 0.6112 - accuracy: 0.7118 - val_loss: 2.3972 - val_accuracy: 0.3747 - 210ms/epoch - 3ms/step\n",
      "Epoch 183/200\n",
      "61/61 - 0s - loss: 0.6540 - accuracy: 0.6848 - val_loss: 2.3420 - val_accuracy: 0.3579 - 209ms/epoch - 3ms/step\n",
      "Epoch 184/200\n",
      "61/61 - 0s - loss: 0.5871 - accuracy: 0.7304 - val_loss: 2.3724 - val_accuracy: 0.3895 - 208ms/epoch - 3ms/step\n",
      "Epoch 185/200\n",
      "61/61 - 0s - loss: 0.5887 - accuracy: 0.7206 - val_loss: 2.3934 - val_accuracy: 0.3853 - 210ms/epoch - 3ms/step\n",
      "Epoch 186/200\n",
      "61/61 - 0s - loss: 0.6181 - accuracy: 0.7144 - val_loss: 2.3494 - val_accuracy: 0.4126 - 211ms/epoch - 3ms/step\n",
      "Epoch 187/200\n",
      "61/61 - 0s - loss: 0.5866 - accuracy: 0.7278 - val_loss: 2.4924 - val_accuracy: 0.3684 - 212ms/epoch - 3ms/step\n",
      "Epoch 188/200\n",
      "61/61 - 0s - loss: 0.5908 - accuracy: 0.7242 - val_loss: 2.5189 - val_accuracy: 0.3789 - 211ms/epoch - 3ms/step\n",
      "Epoch 189/200\n",
      "61/61 - 0s - loss: 0.5453 - accuracy: 0.7481 - val_loss: 2.3963 - val_accuracy: 0.4021 - 211ms/epoch - 3ms/step\n",
      "Epoch 190/200\n",
      "61/61 - 0s - loss: 0.5415 - accuracy: 0.7569 - val_loss: 2.5712 - val_accuracy: 0.3789 - 209ms/epoch - 3ms/step\n",
      "Epoch 191/200\n",
      "61/61 - 0s - loss: 0.5268 - accuracy: 0.7564 - val_loss: 2.6822 - val_accuracy: 0.3747 - 211ms/epoch - 3ms/step\n",
      "Epoch 192/200\n",
      "61/61 - 0s - loss: 0.5624 - accuracy: 0.7392 - val_loss: 2.4930 - val_accuracy: 0.4063 - 211ms/epoch - 3ms/step\n",
      "Epoch 193/200\n",
      "61/61 - 0s - loss: 0.5554 - accuracy: 0.7439 - val_loss: 2.5390 - val_accuracy: 0.3958 - 213ms/epoch - 3ms/step\n",
      "Epoch 194/200\n",
      "61/61 - 0s - loss: 0.5402 - accuracy: 0.7455 - val_loss: 2.7005 - val_accuracy: 0.3705 - 210ms/epoch - 3ms/step\n",
      "Epoch 195/200\n",
      "61/61 - 0s - loss: 0.5774 - accuracy: 0.7356 - val_loss: 2.5470 - val_accuracy: 0.3937 - 212ms/epoch - 3ms/step\n",
      "Epoch 196/200\n",
      "61/61 - 0s - loss: 0.5057 - accuracy: 0.7792 - val_loss: 2.7138 - val_accuracy: 0.3874 - 210ms/epoch - 3ms/step\n",
      "Epoch 197/200\n",
      "61/61 - 0s - loss: 0.5134 - accuracy: 0.7584 - val_loss: 2.7693 - val_accuracy: 0.3832 - 211ms/epoch - 3ms/step\n",
      "Epoch 198/200\n",
      "61/61 - 0s - loss: 0.5029 - accuracy: 0.7688 - val_loss: 2.7922 - val_accuracy: 0.3789 - 212ms/epoch - 3ms/step\n",
      "Epoch 199/200\n",
      "61/61 - 0s - loss: 0.5156 - accuracy: 0.7683 - val_loss: 2.8080 - val_accuracy: 0.3789 - 212ms/epoch - 3ms/step\n",
      "Epoch 200/200\n",
      "61/61 - 0s - loss: 0.4704 - accuracy: 0.7828 - val_loss: 2.9452 - val_accuracy: 0.3874 - 211ms/epoch - 3ms/step\n"
     ]
    }
   ],
   "source": [
    "history = model.fit(X_train_scaled, y_train, batch_size=32, epochs=200,  verbose=2,validation_data=(X_val_scaled,y_val))"
   ]
  },
  {
   "cell_type": "code",
   "execution_count": 46,
   "id": "f12b1d2707a39433",
   "metadata": {
    "ExecuteTime": {
     "end_time": "2024-05-13T08:35:02.014121Z",
     "start_time": "2024-05-13T08:35:01.922686Z"
    },
    "collapsed": false
   },
   "outputs": [
    {
     "data": {
      "image/png": "[encoded data removed]",
      "text/plain": [
       "<Figure size 1000x600 with 1 Axes>"
      ]
     },
     "metadata": {},
     "output_type": "display_data"
    }
   ],
   "source": [
    "# 提取训练损失和验证损失\n",
    "train_loss = history.history['loss']\n",
    "val_loss = history.history['val_loss']\n",
    "\n",
    "# 获取训练周期数\n",
    "epochs = range(1, len(train_loss) + 1)\n",
    "\n",
    "# 绘制训练损失和验证损失的曲线\n",
    "plt.figure(figsize=(10, 6))\n",
    "plt.plot(epochs, train_loss, label='Training Loss')\n",
    "plt.plot(epochs, val_loss, label='Validation Loss')\n",
    "plt.title('Training and Validation Loss')\n",
    "plt.xlabel('Epochs')\n",
    "plt.ylabel('Loss')\n",
    "plt.legend()\n",
    "\n",
    "plt.show()"
   ]
  },
  {
   "cell_type": "code",
   "execution_count": 47,
   "id": "caa86d1a56b5280c",
   "metadata": {
    "ExecuteTime": {
     "end_time": "2024-05-13T08:35:02.162463Z",
     "start_time": "2024-05-13T08:35:02.013144Z"
    },
    "collapsed": false
   },
   "outputs": [
    {
     "name": "stdout",
     "output_type": "stream",
     "text": [
      "8/8 [==============================] - 0s 1ms/step\n"
     ]
    }
   ],
   "source": [
    "# 对测试集进行预测\n",
    "y_pred = model.predict(X_test_scaled)"
   ]
  },
  {
   "cell_type": "code",
   "execution_count": 48,
   "id": "e610de93d6f81777",
   "metadata": {
    "ExecuteTime": {
     "end_time": "2024-05-13T08:35:02.165518Z",
     "start_time": "2024-05-13T08:35:02.163472Z"
    },
    "collapsed": false
   },
   "outputs": [
    {
     "name": "stdout",
     "output_type": "stream",
     "text": [
      "(232, 3)\n",
      "float32\n"
     ]
    }
   ],
   "source": [
    "y_test_labels = np.argmax(y_test,axis=1)\n",
    "y_pred_labels = np.argmax(y_pred, axis=1)\n",
    "print(y_pred.shape)\n",
    "print(y_pred.dtype)"
   ]
  },
  {
   "cell_type": "code",
   "execution_count": 49,
   "id": "7ba7f9dd28538aea",
   "metadata": {
    "ExecuteTime": {
     "end_time": "2024-05-13T08:35:02.168391Z",
     "start_time": "2024-05-13T08:35:02.166560Z"
    },
    "collapsed": false
   },
   "outputs": [
    {
     "name": "stdout",
     "output_type": "stream",
     "text": [
      "Accuracy: 90.95%\n"
     ]
    }
   ],
   "source": [
    "accuracy = accuracy_score(y_test_labels, y_pred_labels)\n",
    "print(f'Accuracy: {accuracy * 100:.2f}%')"
   ]
  },
  {
   "cell_type": "code",
   "execution_count": 50,
   "id": "95a697289d209e7d",
   "metadata": {
    "ExecuteTime": {
     "end_time": "2024-05-13T08:35:02.267491Z",
     "start_time": "2024-05-13T08:35:02.171540Z"
    },
    "collapsed": false
   },
   "outputs": [
    {
     "data": {
      "image/png": "[encoded data removed]",
      "text/plain": [
       "<Figure size 1000x800 with 1 Axes>"
      ]
     },
     "metadata": {},
     "output_type": "display_data"
    }
   ],
   "source": [
    "def plot_multiclass_roc(y_test, y_score, n_classes):\n",
    "    # 计算每个类别的ROC曲线和AUC\n",
    "    fpr = dict()\n",
    "    tpr = dict()\n",
    "    roc_auc = dict()\n",
    "    for i in range(n_classes):\n",
    "        fpr[i], tpr[i], _ = roc_curve(y_test[:, i], y_score[:, i])\n",
    "        roc_auc[i] = auc(fpr[i], tpr[i])\n",
    "\n",
    "    # 绘制所有类别的ROC曲线\n",
    "    plt.figure(figsize=(10, 8))\n",
    "    for i in range(n_classes):\n",
    "        plt.plot(fpr[i], tpr[i], label=f'Class {i} (area = {roc_auc[i]:.2f})')\n",
    "        \n",
    "   \n",
    "    # 在函数内部添加数据验证\n",
    "    if not (y_test.shape[1] == n_classes and y_score.shape[1] == n_classes):\n",
    "        raise ValueError(\"y_test and y_score should have the same number of columns as n_classes\")\n",
    "\n",
    "    if np.any(np.isnan(y_test)) or np.any(np.isnan(y_score)):\n",
    "        raise ValueError(\"y_test and y_score should not contain NaNs\")\n",
    "    \n",
    "    plt.plot([0, 1], [0, 1], 'k--')\n",
    "    plt.xlim([0.0, 1.0])\n",
    "    plt.ylim([0.0, 1.05])\n",
    "    plt.xlabel('False Positive Rate')\n",
    "    plt.ylabel('True Positive Rate')\n",
    "    plt.title('ROC Curve for multi-class')\n",
    "    plt.legend(loc=\"lower right\")\n",
    "    plt.show()\n",
    "\n",
    "# 假设y_test1是one-hot编码的标签，y_pred是模型预测的概率输出\n",
    "plot_multiclass_roc(y_test, y_pred, n_classes=3)"
   ]
  },
  {
   "cell_type": "code",
   "execution_count": 51,
   "id": "5f781e47459c76ed",
   "metadata": {
    "ExecuteTime": {
     "end_time": "2024-05-13T08:35:02.344689Z",
     "start_time": "2024-05-13T08:35:02.269550Z"
    },
    "collapsed": false
   },
   "outputs": [
    {
     "data": {
      "image/png": "[encoded data removed]",
      "text/plain": [
       "<Figure size 640x480 with 2 Axes>"
      ]
     },
     "metadata": {},
     "output_type": "display_data"
    }
   ],
   "source": [
    "def plot_confusion_matrix(y_true, y_pred):\n",
    "    cm = confusion_matrix(y_true, y_pred)\n",
    "    disp = ConfusionMatrixDisplay(confusion_matrix=cm)\n",
    "    disp.plot(cmap=plt.cm.Blues)\n",
    "    plt.title('Confusion Matrix')\n",
    "    plt.show()\n",
    "\n",
    "# 使用你之前计算的y_test_labels和y_pred_labels\n",
    "plot_confusion_matrix(y_test_labels, y_pred_labels)"
   ]
  }
 ],
 "metadata": {
  "kernelspec": {
   "display_name": "Python 3",
   "language": "python",
   "name": "python3"
  },
  "language_info": {
   "codemirror_mode": {
    "name": "ipython",
    "version": 2
   },
   "file_extension": ".py",
   "mimetype": "text/x-python",
   "name": "python",
   "nbconvert_exporter": "python",
   "pygments_lexer": "ipython2",
   "version": "2.7.6"
  }
 },
 "nbformat": 4,
 "nbformat_minor": 5
}
